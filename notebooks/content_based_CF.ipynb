{
 "cells": [
  {
   "cell_type": "code",
   "execution_count": 1,
   "id": "eeb1faf1",
   "metadata": {
    "pycharm": {
     "name": "#%%\n"
    }
   },
   "outputs": [],
   "source": [
    "import pandas as pd"
   ]
  },
  {
   "cell_type": "code",
   "execution_count": 2,
   "id": "df32159b",
   "metadata": {
    "pycharm": {
     "name": "#%%\n"
    }
   },
   "outputs": [],
   "source": [
    "movies = pd.read_csv('./dataset_out/out_movie_infos.csv')"
   ]
  },
  {
   "cell_type": "code",
   "execution_count": 3,
   "id": "ef32e363",
   "metadata": {
    "pycharm": {
     "name": "#%%\n"
    }
   },
   "outputs": [
    {
     "data": {
      "text/html": [
       "<div>\n",
       "<style scoped>\n",
       "    .dataframe tbody tr th:only-of-type {\n",
       "        vertical-align: middle;\n",
       "    }\n",
       "\n",
       "    .dataframe tbody tr th {\n",
       "        vertical-align: top;\n",
       "    }\n",
       "\n",
       "    .dataframe thead th {\n",
       "        text-align: right;\n",
       "    }\n",
       "</style>\n",
       "<table border=\"1\" class=\"dataframe\">\n",
       "  <thead>\n",
       "    <tr style=\"text-align: right;\">\n",
       "      <th></th>\n",
       "      <th>movie_ID</th>\n",
       "      <th>movie_title</th>\n",
       "      <th>movie_desc</th>\n",
       "      <th>genres</th>\n",
       "      <th>keywords</th>\n",
       "      <th>cast</th>\n",
       "      <th>director</th>\n",
       "    </tr>\n",
       "  </thead>\n",
       "  <tbody>\n",
       "    <tr>\n",
       "      <th>0</th>\n",
       "      <td>3190</td>\n",
       "      <td>Childish Quarrel</td>\n",
       "      <td>Two babies are shown seated next to each other...</td>\n",
       "      <td>[\"Documentary\"]</td>\n",
       "      <td>['two', 'babies', 'shown', 'seated', 'next', '...</td>\n",
       "      <td>[\"Suzanne Lumi\\u00e8re\",\"Andr\\u00e9e Lumi\\u00e...</td>\n",
       "      <td>[\"Louis Lumi\\u00e8re\"]</td>\n",
       "    </tr>\n",
       "    <tr>\n",
       "      <th>1</th>\n",
       "      <td>2790</td>\n",
       "      <td>Automated Hat-Maker and Sausage-Grinder</td>\n",
       "      <td>A machine churns out sausages on one side and ...</td>\n",
       "      <td>[\"Comedy\"]</td>\n",
       "      <td>['machine', 'churns', 'sausages', 'one', 'side...</td>\n",
       "      <td>[\"Henri Vallouy\"]</td>\n",
       "      <td>[\"Alice Guy-Blach\\u00e9\"]</td>\n",
       "    </tr>\n",
       "    <tr>\n",
       "      <th>2</th>\n",
       "      <td>3548</td>\n",
       "      <td>A Story Well Spun</td>\n",
       "      <td>A runaway barrel wreaks havoc all over the city.</td>\n",
       "      <td>[\"Comedy\"]</td>\n",
       "      <td>['runaway', 'barrel', 'wreaks', 'havoc', 'city']</td>\n",
       "      <td>[]</td>\n",
       "      <td>[\"Alice Guy-Blach\\u00e9\"]</td>\n",
       "    </tr>\n",
       "    <tr>\n",
       "      <th>3</th>\n",
       "      <td>2823</td>\n",
       "      <td>National parade to celebrate the annexation of...</td>\n",
       "      <td>Documentary footage of a parade in Antwerp cel...</td>\n",
       "      <td>[\"Documentary\"]</td>\n",
       "      <td>['documentary', 'footage', 'parade', 'antwerp'...</td>\n",
       "      <td>[]</td>\n",
       "      <td>[\"\"]</td>\n",
       "    </tr>\n",
       "    <tr>\n",
       "      <th>4</th>\n",
       "      <td>2980</td>\n",
       "      <td>A Pair of Silk Stockings</td>\n",
       "      <td>Molly is a wife of wealthy Britisher Sam Thorn...</td>\n",
       "      <td>[\"Comedy\", \"Romance\"]</td>\n",
       "      <td>['molly', 'wife', 'wealthy', 'britisher', 'sam...</td>\n",
       "      <td>[\"Constance Talmadge\",\"Harrison Ford\",\"Wanda H...</td>\n",
       "      <td>[\"Walter Edwards\"]</td>\n",
       "    </tr>\n",
       "    <tr>\n",
       "      <th>5</th>\n",
       "      <td>6517</td>\n",
       "      <td>Harakiri</td>\n",
       "      <td>The daughter of a Daimyo one forced to commit ...</td>\n",
       "      <td>[\"Drama\"]</td>\n",
       "      <td>['daughter', 'daimyo', 'one', 'forced', 'commi...</td>\n",
       "      <td>[\"Paul Biensfeldt\",\"Lil Dagover\",\"George John\"...</td>\n",
       "      <td>[\"Fritz Lang\"]</td>\n",
       "    </tr>\n",
       "    <tr>\n",
       "      <th>6</th>\n",
       "      <td>2622</td>\n",
       "      <td>The Jade Casket</td>\n",
       "      <td>NaN</td>\n",
       "      <td>[\"Adventure\", \"Mystery\"]</td>\n",
       "      <td>[]</td>\n",
       "      <td>[\"Roger Karl\",\"Laurence Myrga\",\"Daniel Mendail...</td>\n",
       "      <td>[\"L\\u00e9on Poirier\"]</td>\n",
       "    </tr>\n",
       "    <tr>\n",
       "      <th>7</th>\n",
       "      <td>6093</td>\n",
       "      <td>Orphans of the Storm</td>\n",
       "      <td>France on the eve of the French Revolution. He...</td>\n",
       "      <td>[\"Drama\", \"History\", \"Romance\"]</td>\n",
       "      <td>['france', 'eve', 'french', 'revolution', 'hen...</td>\n",
       "      <td>[\"Lillian Gish\",\"Dorothy Gish\",\"Joseph Schildk...</td>\n",
       "      <td>[\"D.W. Griffith\"]</td>\n",
       "    </tr>\n",
       "    <tr>\n",
       "      <th>8</th>\n",
       "      <td>6585</td>\n",
       "      <td>The First Degree</td>\n",
       "      <td>Sam Bass receives a summons to testify before ...</td>\n",
       "      <td>[\"Drama\"]</td>\n",
       "      <td>['sam', 'bass', 'receives', 'summons', 'testif...</td>\n",
       "      <td>[\"Frank Mayo\",\"Sylvia Breamer\",\"Philo McCullou...</td>\n",
       "      <td>[\"Edward Sedgwick\"]</td>\n",
       "    </tr>\n",
       "    <tr>\n",
       "      <th>9</th>\n",
       "      <td>5773</td>\n",
       "      <td>The Thrill Seekers</td>\n",
       "      <td>Minor silent action hero James F. Fulton starr...</td>\n",
       "      <td>[\"Drama\"]</td>\n",
       "      <td>['minor', 'silent', 'action', 'hero', 'james',...</td>\n",
       "      <td>[\"Jimmy Fulton\",\"Ruth Clifford\",\"Gloria Grey\",...</td>\n",
       "      <td>[\"Harry Revier\"]</td>\n",
       "    </tr>\n",
       "  </tbody>\n",
       "</table>\n",
       "</div>"
      ],
      "text/plain": [
       "   movie_ID                                        movie_title  \\\n",
       "0      3190                                   Childish Quarrel   \n",
       "1      2790            Automated Hat-Maker and Sausage-Grinder   \n",
       "2      3548                                  A Story Well Spun   \n",
       "3      2823  National parade to celebrate the annexation of...   \n",
       "4      2980                           A Pair of Silk Stockings   \n",
       "5      6517                                           Harakiri   \n",
       "6      2622                                    The Jade Casket   \n",
       "7      6093                               Orphans of the Storm   \n",
       "8      6585                                   The First Degree   \n",
       "9      5773                                 The Thrill Seekers   \n",
       "\n",
       "                                          movie_desc  \\\n",
       "0  Two babies are shown seated next to each other...   \n",
       "1  A machine churns out sausages on one side and ...   \n",
       "2   A runaway barrel wreaks havoc all over the city.   \n",
       "3  Documentary footage of a parade in Antwerp cel...   \n",
       "4  Molly is a wife of wealthy Britisher Sam Thorn...   \n",
       "5  The daughter of a Daimyo one forced to commit ...   \n",
       "6                                                NaN   \n",
       "7  France on the eve of the French Revolution. He...   \n",
       "8  Sam Bass receives a summons to testify before ...   \n",
       "9  Minor silent action hero James F. Fulton starr...   \n",
       "\n",
       "                            genres  \\\n",
       "0                  [\"Documentary\"]   \n",
       "1                       [\"Comedy\"]   \n",
       "2                       [\"Comedy\"]   \n",
       "3                  [\"Documentary\"]   \n",
       "4            [\"Comedy\", \"Romance\"]   \n",
       "5                        [\"Drama\"]   \n",
       "6         [\"Adventure\", \"Mystery\"]   \n",
       "7  [\"Drama\", \"History\", \"Romance\"]   \n",
       "8                        [\"Drama\"]   \n",
       "9                        [\"Drama\"]   \n",
       "\n",
       "                                            keywords  \\\n",
       "0  ['two', 'babies', 'shown', 'seated', 'next', '...   \n",
       "1  ['machine', 'churns', 'sausages', 'one', 'side...   \n",
       "2   ['runaway', 'barrel', 'wreaks', 'havoc', 'city']   \n",
       "3  ['documentary', 'footage', 'parade', 'antwerp'...   \n",
       "4  ['molly', 'wife', 'wealthy', 'britisher', 'sam...   \n",
       "5  ['daughter', 'daimyo', 'one', 'forced', 'commi...   \n",
       "6                                                 []   \n",
       "7  ['france', 'eve', 'french', 'revolution', 'hen...   \n",
       "8  ['sam', 'bass', 'receives', 'summons', 'testif...   \n",
       "9  ['minor', 'silent', 'action', 'hero', 'james',...   \n",
       "\n",
       "                                                cast  \\\n",
       "0  [\"Suzanne Lumi\\u00e8re\",\"Andr\\u00e9e Lumi\\u00e...   \n",
       "1                                  [\"Henri Vallouy\"]   \n",
       "2                                                 []   \n",
       "3                                                 []   \n",
       "4  [\"Constance Talmadge\",\"Harrison Ford\",\"Wanda H...   \n",
       "5  [\"Paul Biensfeldt\",\"Lil Dagover\",\"George John\"...   \n",
       "6  [\"Roger Karl\",\"Laurence Myrga\",\"Daniel Mendail...   \n",
       "7  [\"Lillian Gish\",\"Dorothy Gish\",\"Joseph Schildk...   \n",
       "8  [\"Frank Mayo\",\"Sylvia Breamer\",\"Philo McCullou...   \n",
       "9  [\"Jimmy Fulton\",\"Ruth Clifford\",\"Gloria Grey\",...   \n",
       "\n",
       "                    director  \n",
       "0     [\"Louis Lumi\\u00e8re\"]  \n",
       "1  [\"Alice Guy-Blach\\u00e9\"]  \n",
       "2  [\"Alice Guy-Blach\\u00e9\"]  \n",
       "3                       [\"\"]  \n",
       "4         [\"Walter Edwards\"]  \n",
       "5             [\"Fritz Lang\"]  \n",
       "6      [\"L\\u00e9on Poirier\"]  \n",
       "7          [\"D.W. Griffith\"]  \n",
       "8        [\"Edward Sedgwick\"]  \n",
       "9           [\"Harry Revier\"]  "
      ]
     },
     "execution_count": 3,
     "metadata": {},
     "output_type": "execute_result"
    }
   ],
   "source": [
    "movies.head(10)"
   ]
  },
  {
   "cell_type": "code",
   "execution_count": 4,
   "id": "908a6113",
   "metadata": {
    "pycharm": {
     "name": "#%%\n"
    }
   },
   "outputs": [
    {
     "data": {
      "text/plain": [
       "(3150, 7)"
      ]
     },
     "execution_count": 4,
     "metadata": {},
     "output_type": "execute_result"
    }
   ],
   "source": [
    "movies.shape"
   ]
  },
  {
   "cell_type": "code",
   "execution_count": 5,
   "id": "ee7a8242",
   "metadata": {
    "pycharm": {
     "name": "#%%\n"
    }
   },
   "outputs": [
    {
     "data": {
      "text/plain": [
       "movie_ID        0\n",
       "movie_title     0\n",
       "movie_desc     32\n",
       "genres          0\n",
       "keywords        0\n",
       "cast            0\n",
       "director        0\n",
       "dtype: int64"
      ]
     },
     "execution_count": 5,
     "metadata": {},
     "output_type": "execute_result"
    }
   ],
   "source": [
    "movies.isnull().sum()"
   ]
  },
  {
   "cell_type": "code",
   "execution_count": 6,
   "id": "5d032d89",
   "metadata": {
    "pycharm": {
     "name": "#%%\n"
    }
   },
   "outputs": [
    {
     "data": {
      "text/plain": [
       "0"
      ]
     },
     "execution_count": 6,
     "metadata": {},
     "output_type": "execute_result"
    }
   ],
   "source": [
    "movies.duplicated().sum()\n"
   ]
  },
  {
   "cell_type": "code",
   "execution_count": 7,
   "id": "717e52f4",
   "metadata": {
    "pycharm": {
     "name": "#%%\n"
    }
   },
   "outputs": [
    {
     "data": {
      "text/plain": [
       "'[\"Documentary\"]'"
      ]
     },
     "execution_count": 7,
     "metadata": {},
     "output_type": "execute_result"
    }
   ],
   "source": [
    "movies.iloc[0]['genres']\n"
   ]
  },
  {
   "cell_type": "code",
   "execution_count": 8,
   "id": "c88c80d6",
   "metadata": {
    "pycharm": {
     "name": "#%%\n"
    }
   },
   "outputs": [
    {
     "data": {
      "text/html": [
       "<div>\n",
       "<style scoped>\n",
       "    .dataframe tbody tr th:only-of-type {\n",
       "        vertical-align: middle;\n",
       "    }\n",
       "\n",
       "    .dataframe tbody tr th {\n",
       "        vertical-align: top;\n",
       "    }\n",
       "\n",
       "    .dataframe thead th {\n",
       "        text-align: right;\n",
       "    }\n",
       "</style>\n",
       "<table border=\"1\" class=\"dataframe\">\n",
       "  <thead>\n",
       "    <tr style=\"text-align: right;\">\n",
       "      <th></th>\n",
       "      <th>movie_ID</th>\n",
       "      <th>movie_title</th>\n",
       "      <th>movie_desc</th>\n",
       "      <th>genres</th>\n",
       "      <th>keywords</th>\n",
       "      <th>cast</th>\n",
       "      <th>director</th>\n",
       "    </tr>\n",
       "  </thead>\n",
       "  <tbody>\n",
       "    <tr>\n",
       "      <th>0</th>\n",
       "      <td>3190</td>\n",
       "      <td>Childish Quarrel</td>\n",
       "      <td>Two babies are shown seated next to each other...</td>\n",
       "      <td>[\"Documentary\"]</td>\n",
       "      <td>['two', 'babies', 'shown', 'seated', 'next', '...</td>\n",
       "      <td>[\"Suzanne Lumi\\u00e8re\",\"Andr\\u00e9e Lumi\\u00e...</td>\n",
       "      <td>[\"Louis Lumi\\u00e8re\"]</td>\n",
       "    </tr>\n",
       "    <tr>\n",
       "      <th>1</th>\n",
       "      <td>2790</td>\n",
       "      <td>Automated Hat-Maker and Sausage-Grinder</td>\n",
       "      <td>A machine churns out sausages on one side and ...</td>\n",
       "      <td>[\"Comedy\"]</td>\n",
       "      <td>['machine', 'churns', 'sausages', 'one', 'side...</td>\n",
       "      <td>[\"Henri Vallouy\"]</td>\n",
       "      <td>[\"Alice Guy-Blach\\u00e9\"]</td>\n",
       "    </tr>\n",
       "    <tr>\n",
       "      <th>2</th>\n",
       "      <td>3548</td>\n",
       "      <td>A Story Well Spun</td>\n",
       "      <td>A runaway barrel wreaks havoc all over the city.</td>\n",
       "      <td>[\"Comedy\"]</td>\n",
       "      <td>['runaway', 'barrel', 'wreaks', 'havoc', 'city']</td>\n",
       "      <td>[]</td>\n",
       "      <td>[\"Alice Guy-Blach\\u00e9\"]</td>\n",
       "    </tr>\n",
       "    <tr>\n",
       "      <th>3</th>\n",
       "      <td>2823</td>\n",
       "      <td>National parade to celebrate the annexation of...</td>\n",
       "      <td>Documentary footage of a parade in Antwerp cel...</td>\n",
       "      <td>[\"Documentary\"]</td>\n",
       "      <td>['documentary', 'footage', 'parade', 'antwerp'...</td>\n",
       "      <td>[]</td>\n",
       "      <td>[\"\"]</td>\n",
       "    </tr>\n",
       "    <tr>\n",
       "      <th>4</th>\n",
       "      <td>2980</td>\n",
       "      <td>A Pair of Silk Stockings</td>\n",
       "      <td>Molly is a wife of wealthy Britisher Sam Thorn...</td>\n",
       "      <td>[\"Comedy\", \"Romance\"]</td>\n",
       "      <td>['molly', 'wife', 'wealthy', 'britisher', 'sam...</td>\n",
       "      <td>[\"Constance Talmadge\",\"Harrison Ford\",\"Wanda H...</td>\n",
       "      <td>[\"Walter Edwards\"]</td>\n",
       "    </tr>\n",
       "  </tbody>\n",
       "</table>\n",
       "</div>"
      ],
      "text/plain": [
       "   movie_ID                                        movie_title  \\\n",
       "0      3190                                   Childish Quarrel   \n",
       "1      2790            Automated Hat-Maker and Sausage-Grinder   \n",
       "2      3548                                  A Story Well Spun   \n",
       "3      2823  National parade to celebrate the annexation of...   \n",
       "4      2980                           A Pair of Silk Stockings   \n",
       "\n",
       "                                          movie_desc                 genres  \\\n",
       "0  Two babies are shown seated next to each other...        [\"Documentary\"]   \n",
       "1  A machine churns out sausages on one side and ...             [\"Comedy\"]   \n",
       "2   A runaway barrel wreaks havoc all over the city.             [\"Comedy\"]   \n",
       "3  Documentary footage of a parade in Antwerp cel...        [\"Documentary\"]   \n",
       "4  Molly is a wife of wealthy Britisher Sam Thorn...  [\"Comedy\", \"Romance\"]   \n",
       "\n",
       "                                            keywords  \\\n",
       "0  ['two', 'babies', 'shown', 'seated', 'next', '...   \n",
       "1  ['machine', 'churns', 'sausages', 'one', 'side...   \n",
       "2   ['runaway', 'barrel', 'wreaks', 'havoc', 'city']   \n",
       "3  ['documentary', 'footage', 'parade', 'antwerp'...   \n",
       "4  ['molly', 'wife', 'wealthy', 'britisher', 'sam...   \n",
       "\n",
       "                                                cast  \\\n",
       "0  [\"Suzanne Lumi\\u00e8re\",\"Andr\\u00e9e Lumi\\u00e...   \n",
       "1                                  [\"Henri Vallouy\"]   \n",
       "2                                                 []   \n",
       "3                                                 []   \n",
       "4  [\"Constance Talmadge\",\"Harrison Ford\",\"Wanda H...   \n",
       "\n",
       "                    director  \n",
       "0     [\"Louis Lumi\\u00e8re\"]  \n",
       "1  [\"Alice Guy-Blach\\u00e9\"]  \n",
       "2  [\"Alice Guy-Blach\\u00e9\"]  \n",
       "3                       [\"\"]  \n",
       "4         [\"Walter Edwards\"]  "
      ]
     },
     "execution_count": 8,
     "metadata": {},
     "output_type": "execute_result"
    }
   ],
   "source": [
    "movies.head(5)"
   ]
  },
  {
   "cell_type": "code",
   "execution_count": 9,
   "id": "55e30846",
   "metadata": {
    "pycharm": {
     "name": "#%%\n"
    }
   },
   "outputs": [],
   "source": [
    "movies['tags'] = movies['movie_desc'] + movies['genres'] + movies['keywords'] + movies['cast'] + movies['director']"
   ]
  },
  {
   "cell_type": "code",
   "execution_count": 10,
   "id": "a3153bde",
   "metadata": {
    "pycharm": {
     "name": "#%%\n"
    }
   },
   "outputs": [
    {
     "data": {
      "text/html": [
       "<div>\n",
       "<style scoped>\n",
       "    .dataframe tbody tr th:only-of-type {\n",
       "        vertical-align: middle;\n",
       "    }\n",
       "\n",
       "    .dataframe tbody tr th {\n",
       "        vertical-align: top;\n",
       "    }\n",
       "\n",
       "    .dataframe thead th {\n",
       "        text-align: right;\n",
       "    }\n",
       "</style>\n",
       "<table border=\"1\" class=\"dataframe\">\n",
       "  <thead>\n",
       "    <tr style=\"text-align: right;\">\n",
       "      <th></th>\n",
       "      <th>movie_ID</th>\n",
       "      <th>movie_title</th>\n",
       "      <th>movie_desc</th>\n",
       "      <th>genres</th>\n",
       "      <th>keywords</th>\n",
       "      <th>cast</th>\n",
       "      <th>director</th>\n",
       "      <th>tags</th>\n",
       "    </tr>\n",
       "  </thead>\n",
       "  <tbody>\n",
       "    <tr>\n",
       "      <th>0</th>\n",
       "      <td>3190</td>\n",
       "      <td>Childish Quarrel</td>\n",
       "      <td>Two babies are shown seated next to each other...</td>\n",
       "      <td>[\"Documentary\"]</td>\n",
       "      <td>['two', 'babies', 'shown', 'seated', 'next', '...</td>\n",
       "      <td>[\"Suzanne Lumi\\u00e8re\",\"Andr\\u00e9e Lumi\\u00e...</td>\n",
       "      <td>[\"Louis Lumi\\u00e8re\"]</td>\n",
       "      <td>Two babies are shown seated next to each other...</td>\n",
       "    </tr>\n",
       "    <tr>\n",
       "      <th>1</th>\n",
       "      <td>2790</td>\n",
       "      <td>Automated Hat-Maker and Sausage-Grinder</td>\n",
       "      <td>A machine churns out sausages on one side and ...</td>\n",
       "      <td>[\"Comedy\"]</td>\n",
       "      <td>['machine', 'churns', 'sausages', 'one', 'side...</td>\n",
       "      <td>[\"Henri Vallouy\"]</td>\n",
       "      <td>[\"Alice Guy-Blach\\u00e9\"]</td>\n",
       "      <td>A machine churns out sausages on one side and ...</td>\n",
       "    </tr>\n",
       "    <tr>\n",
       "      <th>2</th>\n",
       "      <td>3548</td>\n",
       "      <td>A Story Well Spun</td>\n",
       "      <td>A runaway barrel wreaks havoc all over the city.</td>\n",
       "      <td>[\"Comedy\"]</td>\n",
       "      <td>['runaway', 'barrel', 'wreaks', 'havoc', 'city']</td>\n",
       "      <td>[]</td>\n",
       "      <td>[\"Alice Guy-Blach\\u00e9\"]</td>\n",
       "      <td>A runaway barrel wreaks havoc all over the cit...</td>\n",
       "    </tr>\n",
       "    <tr>\n",
       "      <th>3</th>\n",
       "      <td>2823</td>\n",
       "      <td>National parade to celebrate the annexation of...</td>\n",
       "      <td>Documentary footage of a parade in Antwerp cel...</td>\n",
       "      <td>[\"Documentary\"]</td>\n",
       "      <td>['documentary', 'footage', 'parade', 'antwerp'...</td>\n",
       "      <td>[]</td>\n",
       "      <td>[\"\"]</td>\n",
       "      <td>Documentary footage of a parade in Antwerp cel...</td>\n",
       "    </tr>\n",
       "    <tr>\n",
       "      <th>4</th>\n",
       "      <td>2980</td>\n",
       "      <td>A Pair of Silk Stockings</td>\n",
       "      <td>Molly is a wife of wealthy Britisher Sam Thorn...</td>\n",
       "      <td>[\"Comedy\", \"Romance\"]</td>\n",
       "      <td>['molly', 'wife', 'wealthy', 'britisher', 'sam...</td>\n",
       "      <td>[\"Constance Talmadge\",\"Harrison Ford\",\"Wanda H...</td>\n",
       "      <td>[\"Walter Edwards\"]</td>\n",
       "      <td>Molly is a wife of wealthy Britisher Sam Thorn...</td>\n",
       "    </tr>\n",
       "  </tbody>\n",
       "</table>\n",
       "</div>"
      ],
      "text/plain": [
       "   movie_ID                                        movie_title  \\\n",
       "0      3190                                   Childish Quarrel   \n",
       "1      2790            Automated Hat-Maker and Sausage-Grinder   \n",
       "2      3548                                  A Story Well Spun   \n",
       "3      2823  National parade to celebrate the annexation of...   \n",
       "4      2980                           A Pair of Silk Stockings   \n",
       "\n",
       "                                          movie_desc                 genres  \\\n",
       "0  Two babies are shown seated next to each other...        [\"Documentary\"]   \n",
       "1  A machine churns out sausages on one side and ...             [\"Comedy\"]   \n",
       "2   A runaway barrel wreaks havoc all over the city.             [\"Comedy\"]   \n",
       "3  Documentary footage of a parade in Antwerp cel...        [\"Documentary\"]   \n",
       "4  Molly is a wife of wealthy Britisher Sam Thorn...  [\"Comedy\", \"Romance\"]   \n",
       "\n",
       "                                            keywords  \\\n",
       "0  ['two', 'babies', 'shown', 'seated', 'next', '...   \n",
       "1  ['machine', 'churns', 'sausages', 'one', 'side...   \n",
       "2   ['runaway', 'barrel', 'wreaks', 'havoc', 'city']   \n",
       "3  ['documentary', 'footage', 'parade', 'antwerp'...   \n",
       "4  ['molly', 'wife', 'wealthy', 'britisher', 'sam...   \n",
       "\n",
       "                                                cast  \\\n",
       "0  [\"Suzanne Lumi\\u00e8re\",\"Andr\\u00e9e Lumi\\u00e...   \n",
       "1                                  [\"Henri Vallouy\"]   \n",
       "2                                                 []   \n",
       "3                                                 []   \n",
       "4  [\"Constance Talmadge\",\"Harrison Ford\",\"Wanda H...   \n",
       "\n",
       "                    director  \\\n",
       "0     [\"Louis Lumi\\u00e8re\"]   \n",
       "1  [\"Alice Guy-Blach\\u00e9\"]   \n",
       "2  [\"Alice Guy-Blach\\u00e9\"]   \n",
       "3                       [\"\"]   \n",
       "4         [\"Walter Edwards\"]   \n",
       "\n",
       "                                                tags  \n",
       "0  Two babies are shown seated next to each other...  \n",
       "1  A machine churns out sausages on one side and ...  \n",
       "2  A runaway barrel wreaks havoc all over the cit...  \n",
       "3  Documentary footage of a parade in Antwerp cel...  \n",
       "4  Molly is a wife of wealthy Britisher Sam Thorn...  "
      ]
     },
     "execution_count": 10,
     "metadata": {},
     "output_type": "execute_result"
    }
   ],
   "source": [
    "movies.head(5)"
   ]
  },
  {
   "cell_type": "code",
   "execution_count": 11,
   "id": "3e706875",
   "metadata": {
    "pycharm": {
     "name": "#%%\n"
    }
   },
   "outputs": [
    {
     "data": {
      "text/plain": [
       "'Two babies are shown seated next to each other in high chairs apparently enjoying themselves. Suddenly one snatches a toy from the other and they indulge in hair-pulling.[\"Documentary\"][\\'two\\', \\'babies\\', \\'shown\\', \\'seated\\', \\'next\\', \\'high\\', \\'chairs\\', \\'apparently\\', \\'enjoying\\', \\'suddenly\\', \\'one\\', \\'snatches\\', \\'toy\\', \\'indulge\\'][\"Suzanne Lumi\\\\u00e8re\",\"Andr\\\\u00e9e Lumi\\\\u00e8re\"][\"Louis Lumi\\\\u00e8re\"]'"
      ]
     },
     "execution_count": 11,
     "metadata": {},
     "output_type": "execute_result"
    }
   ],
   "source": [
    "movies.iloc[0]['tags']\n"
   ]
  },
  {
   "cell_type": "code",
   "execution_count": 12,
   "id": "bcfb0d19",
   "metadata": {
    "pycharm": {
     "name": "#%%\n"
    }
   },
   "outputs": [],
   "source": [
    "new_df = movies[['movie_ID','movie_title','tags']]\n"
   ]
  },
  {
   "cell_type": "code",
   "execution_count": 13,
   "id": "6e11a0d9",
   "metadata": {
    "pycharm": {
     "name": "#%%\n"
    }
   },
   "outputs": [
    {
     "data": {
      "text/html": [
       "<div>\n",
       "<style scoped>\n",
       "    .dataframe tbody tr th:only-of-type {\n",
       "        vertical-align: middle;\n",
       "    }\n",
       "\n",
       "    .dataframe tbody tr th {\n",
       "        vertical-align: top;\n",
       "    }\n",
       "\n",
       "    .dataframe thead th {\n",
       "        text-align: right;\n",
       "    }\n",
       "</style>\n",
       "<table border=\"1\" class=\"dataframe\">\n",
       "  <thead>\n",
       "    <tr style=\"text-align: right;\">\n",
       "      <th></th>\n",
       "      <th>movie_ID</th>\n",
       "      <th>movie_title</th>\n",
       "      <th>tags</th>\n",
       "    </tr>\n",
       "  </thead>\n",
       "  <tbody>\n",
       "    <tr>\n",
       "      <th>0</th>\n",
       "      <td>3190</td>\n",
       "      <td>Childish Quarrel</td>\n",
       "      <td>Two babies are shown seated next to each other...</td>\n",
       "    </tr>\n",
       "    <tr>\n",
       "      <th>1</th>\n",
       "      <td>2790</td>\n",
       "      <td>Automated Hat-Maker and Sausage-Grinder</td>\n",
       "      <td>A machine churns out sausages on one side and ...</td>\n",
       "    </tr>\n",
       "    <tr>\n",
       "      <th>2</th>\n",
       "      <td>3548</td>\n",
       "      <td>A Story Well Spun</td>\n",
       "      <td>A runaway barrel wreaks havoc all over the cit...</td>\n",
       "    </tr>\n",
       "    <tr>\n",
       "      <th>3</th>\n",
       "      <td>2823</td>\n",
       "      <td>National parade to celebrate the annexation of...</td>\n",
       "      <td>Documentary footage of a parade in Antwerp cel...</td>\n",
       "    </tr>\n",
       "    <tr>\n",
       "      <th>4</th>\n",
       "      <td>2980</td>\n",
       "      <td>A Pair of Silk Stockings</td>\n",
       "      <td>Molly is a wife of wealthy Britisher Sam Thorn...</td>\n",
       "    </tr>\n",
       "  </tbody>\n",
       "</table>\n",
       "</div>"
      ],
      "text/plain": [
       "   movie_ID                                        movie_title  \\\n",
       "0      3190                                   Childish Quarrel   \n",
       "1      2790            Automated Hat-Maker and Sausage-Grinder   \n",
       "2      3548                                  A Story Well Spun   \n",
       "3      2823  National parade to celebrate the annexation of...   \n",
       "4      2980                           A Pair of Silk Stockings   \n",
       "\n",
       "                                                tags  \n",
       "0  Two babies are shown seated next to each other...  \n",
       "1  A machine churns out sausages on one side and ...  \n",
       "2  A runaway barrel wreaks havoc all over the cit...  \n",
       "3  Documentary footage of a parade in Antwerp cel...  \n",
       "4  Molly is a wife of wealthy Britisher Sam Thorn...  "
      ]
     },
     "execution_count": 13,
     "metadata": {},
     "output_type": "execute_result"
    }
   ],
   "source": [
    "new_df.head()\n"
   ]
  },
  {
   "cell_type": "code",
   "execution_count": 14,
   "id": "11ad5b4e",
   "metadata": {
    "pycharm": {
     "name": "#%%\n"
    }
   },
   "outputs": [],
   "source": [
    "import re\n",
    "def clean_tags(tag_string):\n",
    "    # 使用正则表达式替换中括号、双引号、单引号和逗号\n",
    "    cleaned_string = re.sub(r'[\\[\\]\"\\',]', ' ', tag_string)\n",
    "    # 使用 unicode-escape 解码 Unicode 转义字符\n",
    "    cleaned_string = bytes(cleaned_string, 'utf-8').decode('unicode-escape')\n",
    "    return cleaned_string"
   ]
  },
  {
   "cell_type": "code",
   "execution_count": 15,
   "id": "70bd8099",
   "metadata": {
    "pycharm": {
     "name": "#%%\n"
    }
   },
   "outputs": [
    {
     "name": "stderr",
     "output_type": "stream",
     "text": [
      "/var/folders/sq/ggvvj1j97qqfplbr1w1t952h0000gp/T/ipykernel_74051/3408990348.py:1: SettingWithCopyWarning: \n",
      "A value is trying to be set on a copy of a slice from a DataFrame.\n",
      "Try using .loc[row_indexer,col_indexer] = value instead\n",
      "\n",
      "See the caveats in the documentation: https://pandas.pydata.org/pandas-docs/stable/user_guide/indexing.html#returning-a-view-versus-a-copy\n",
      "  new_df['tags'] = new_df['tags'].astype(str)\n",
      "/var/folders/sq/ggvvj1j97qqfplbr1w1t952h0000gp/T/ipykernel_74051/2788684870.py:6: DeprecationWarning: invalid escape sequence '\\ '\n",
      "  cleaned_string = bytes(cleaned_string, 'utf-8').decode('unicode-escape')\n",
      "/var/folders/sq/ggvvj1j97qqfplbr1w1t952h0000gp/T/ipykernel_74051/3408990348.py:2: SettingWithCopyWarning: \n",
      "A value is trying to be set on a copy of a slice from a DataFrame.\n",
      "Try using .loc[row_indexer,col_indexer] = value instead\n",
      "\n",
      "See the caveats in the documentation: https://pandas.pydata.org/pandas-docs/stable/user_guide/indexing.html#returning-a-view-versus-a-copy\n",
      "  new_df['tags'] = new_df['tags'].apply(clean_tags)\n"
     ]
    },
    {
     "data": {
      "text/html": [
       "<div>\n",
       "<style scoped>\n",
       "    .dataframe tbody tr th:only-of-type {\n",
       "        vertical-align: middle;\n",
       "    }\n",
       "\n",
       "    .dataframe tbody tr th {\n",
       "        vertical-align: top;\n",
       "    }\n",
       "\n",
       "    .dataframe thead th {\n",
       "        text-align: right;\n",
       "    }\n",
       "</style>\n",
       "<table border=\"1\" class=\"dataframe\">\n",
       "  <thead>\n",
       "    <tr style=\"text-align: right;\">\n",
       "      <th></th>\n",
       "      <th>movie_ID</th>\n",
       "      <th>movie_title</th>\n",
       "      <th>tags</th>\n",
       "    </tr>\n",
       "  </thead>\n",
       "  <tbody>\n",
       "    <tr>\n",
       "      <th>0</th>\n",
       "      <td>3190</td>\n",
       "      <td>Childish Quarrel</td>\n",
       "      <td>Two babies are shown seated next to each other...</td>\n",
       "    </tr>\n",
       "    <tr>\n",
       "      <th>1</th>\n",
       "      <td>2790</td>\n",
       "      <td>Automated Hat-Maker and Sausage-Grinder</td>\n",
       "      <td>A machine churns out sausages on one side and ...</td>\n",
       "    </tr>\n",
       "    <tr>\n",
       "      <th>2</th>\n",
       "      <td>3548</td>\n",
       "      <td>A Story Well Spun</td>\n",
       "      <td>A runaway barrel wreaks havoc all over the cit...</td>\n",
       "    </tr>\n",
       "    <tr>\n",
       "      <th>3</th>\n",
       "      <td>2823</td>\n",
       "      <td>National parade to celebrate the annexation of...</td>\n",
       "      <td>Documentary footage of a parade in Antwerp cel...</td>\n",
       "    </tr>\n",
       "    <tr>\n",
       "      <th>4</th>\n",
       "      <td>2980</td>\n",
       "      <td>A Pair of Silk Stockings</td>\n",
       "      <td>Molly is a wife of wealthy Britisher Sam Thorn...</td>\n",
       "    </tr>\n",
       "  </tbody>\n",
       "</table>\n",
       "</div>"
      ],
      "text/plain": [
       "   movie_ID                                        movie_title  \\\n",
       "0      3190                                   Childish Quarrel   \n",
       "1      2790            Automated Hat-Maker and Sausage-Grinder   \n",
       "2      3548                                  A Story Well Spun   \n",
       "3      2823  National parade to celebrate the annexation of...   \n",
       "4      2980                           A Pair of Silk Stockings   \n",
       "\n",
       "                                                tags  \n",
       "0  Two babies are shown seated next to each other...  \n",
       "1  A machine churns out sausages on one side and ...  \n",
       "2  A runaway barrel wreaks havoc all over the cit...  \n",
       "3  Documentary footage of a parade in Antwerp cel...  \n",
       "4  Molly is a wife of wealthy Britisher Sam Thorn...  "
      ]
     },
     "execution_count": 15,
     "metadata": {},
     "output_type": "execute_result"
    }
   ],
   "source": [
    "new_df['tags'] = new_df['tags'].astype(str)\n",
    "new_df['tags'] = new_df['tags'].apply(clean_tags)\n",
    "new_df.head()"
   ]
  },
  {
   "cell_type": "code",
   "execution_count": 16,
   "id": "5a79100d",
   "metadata": {
    "pycharm": {
     "name": "#%%\n"
    }
   },
   "outputs": [
    {
     "data": {
      "text/plain": [
       "'Two babies are shown seated next to each other in high chairs apparently enjoying themselves. Suddenly one snatches a toy from the other and they indulge in hair-pulling.  Documentary    two    babies    shown    seated    next    high    chairs    apparently    enjoying    suddenly    one    snatches    toy    indulge    Suzanne Lumière   Andrée Lumière    Louis Lumière  '"
      ]
     },
     "execution_count": 16,
     "metadata": {},
     "output_type": "execute_result"
    }
   ],
   "source": [
    "new_df.iloc[0]['tags']\n"
   ]
  },
  {
   "cell_type": "code",
   "execution_count": 17,
   "id": "99b6b27d",
   "metadata": {
    "pycharm": {
     "name": "#%%\n"
    }
   },
   "outputs": [
    {
     "name": "stderr",
     "output_type": "stream",
     "text": [
      "/var/folders/sq/ggvvj1j97qqfplbr1w1t952h0000gp/T/ipykernel_74051/4103658309.py:1: SettingWithCopyWarning: \n",
      "A value is trying to be set on a copy of a slice from a DataFrame.\n",
      "Try using .loc[row_indexer,col_indexer] = value instead\n",
      "\n",
      "See the caveats in the documentation: https://pandas.pydata.org/pandas-docs/stable/user_guide/indexing.html#returning-a-view-versus-a-copy\n",
      "  new_df['tags'] = new_df['tags'].apply(lambda x:x.lower())\n"
     ]
    }
   ],
   "source": [
    "new_df['tags'] = new_df['tags'].apply(lambda x:x.lower())\n"
   ]
  },
  {
   "cell_type": "code",
   "execution_count": 18,
   "id": "f7796c2e",
   "metadata": {
    "pycharm": {
     "name": "#%%\n"
    }
   },
   "outputs": [
    {
     "data": {
      "text/html": [
       "<div>\n",
       "<style scoped>\n",
       "    .dataframe tbody tr th:only-of-type {\n",
       "        vertical-align: middle;\n",
       "    }\n",
       "\n",
       "    .dataframe tbody tr th {\n",
       "        vertical-align: top;\n",
       "    }\n",
       "\n",
       "    .dataframe thead th {\n",
       "        text-align: right;\n",
       "    }\n",
       "</style>\n",
       "<table border=\"1\" class=\"dataframe\">\n",
       "  <thead>\n",
       "    <tr style=\"text-align: right;\">\n",
       "      <th></th>\n",
       "      <th>movie_ID</th>\n",
       "      <th>movie_title</th>\n",
       "      <th>tags</th>\n",
       "    </tr>\n",
       "  </thead>\n",
       "  <tbody>\n",
       "    <tr>\n",
       "      <th>0</th>\n",
       "      <td>3190</td>\n",
       "      <td>Childish Quarrel</td>\n",
       "      <td>two babies are shown seated next to each other...</td>\n",
       "    </tr>\n",
       "    <tr>\n",
       "      <th>1</th>\n",
       "      <td>2790</td>\n",
       "      <td>Automated Hat-Maker and Sausage-Grinder</td>\n",
       "      <td>a machine churns out sausages on one side and ...</td>\n",
       "    </tr>\n",
       "    <tr>\n",
       "      <th>2</th>\n",
       "      <td>3548</td>\n",
       "      <td>A Story Well Spun</td>\n",
       "      <td>a runaway barrel wreaks havoc all over the cit...</td>\n",
       "    </tr>\n",
       "    <tr>\n",
       "      <th>3</th>\n",
       "      <td>2823</td>\n",
       "      <td>National parade to celebrate the annexation of...</td>\n",
       "      <td>documentary footage of a parade in antwerp cel...</td>\n",
       "    </tr>\n",
       "    <tr>\n",
       "      <th>4</th>\n",
       "      <td>2980</td>\n",
       "      <td>A Pair of Silk Stockings</td>\n",
       "      <td>molly is a wife of wealthy britisher sam thorn...</td>\n",
       "    </tr>\n",
       "  </tbody>\n",
       "</table>\n",
       "</div>"
      ],
      "text/plain": [
       "   movie_ID                                        movie_title  \\\n",
       "0      3190                                   Childish Quarrel   \n",
       "1      2790            Automated Hat-Maker and Sausage-Grinder   \n",
       "2      3548                                  A Story Well Spun   \n",
       "3      2823  National parade to celebrate the annexation of...   \n",
       "4      2980                           A Pair of Silk Stockings   \n",
       "\n",
       "                                                tags  \n",
       "0  two babies are shown seated next to each other...  \n",
       "1  a machine churns out sausages on one side and ...  \n",
       "2  a runaway barrel wreaks havoc all over the cit...  \n",
       "3  documentary footage of a parade in antwerp cel...  \n",
       "4  molly is a wife of wealthy britisher sam thorn...  "
      ]
     },
     "execution_count": 18,
     "metadata": {},
     "output_type": "execute_result"
    }
   ],
   "source": [
    "new_df.head()\n"
   ]
  },
  {
   "cell_type": "code",
   "execution_count": 19,
   "id": "61402195",
   "metadata": {
    "pycharm": {
     "name": "#%%\n"
    }
   },
   "outputs": [
    {
     "data": {
      "text/plain": [
       "'two babies are shown seated next to each other in high chairs apparently enjoying themselves. suddenly one snatches a toy from the other and they indulge in hair-pulling.  documentary    two    babies    shown    seated    next    high    chairs    apparently    enjoying    suddenly    one    snatches    toy    indulge    suzanne lumière   andrée lumière    louis lumière  '"
      ]
     },
     "execution_count": 19,
     "metadata": {},
     "output_type": "execute_result"
    }
   ],
   "source": [
    "new_df.iloc[0]['tags']\n"
   ]
  },
  {
   "cell_type": "code",
   "execution_count": 20,
   "id": "4f2af3a6",
   "metadata": {
    "pycharm": {
     "name": "#%%\n"
    }
   },
   "outputs": [],
   "source": [
    "import nltk\n",
    "from nltk.stem import PorterStemmer"
   ]
  },
  {
   "cell_type": "code",
   "execution_count": 21,
   "id": "94d07eb2",
   "metadata": {
    "pycharm": {
     "name": "#%%\n"
    }
   },
   "outputs": [],
   "source": [
    "ps = PorterStemmer()\n"
   ]
  },
  {
   "cell_type": "code",
   "execution_count": 22,
   "id": "7d71602d",
   "metadata": {
    "pycharm": {
     "name": "#%%\n"
    }
   },
   "outputs": [],
   "source": [
    "def stems(text):\n",
    "    T = []\n",
    "    \n",
    "    for i in text.split():\n",
    "        T.append(ps.stem(i))\n",
    "    \n",
    "    return \" \".join(T)"
   ]
  },
  {
   "cell_type": "code",
   "execution_count": 23,
   "id": "f6b8933d",
   "metadata": {
    "pycharm": {
     "name": "#%%\n"
    }
   },
   "outputs": [
    {
     "name": "stderr",
     "output_type": "stream",
     "text": [
      "/var/folders/sq/ggvvj1j97qqfplbr1w1t952h0000gp/T/ipykernel_74051/2555563119.py:1: SettingWithCopyWarning: \n",
      "A value is trying to be set on a copy of a slice from a DataFrame.\n",
      "Try using .loc[row_indexer,col_indexer] = value instead\n",
      "\n",
      "See the caveats in the documentation: https://pandas.pydata.org/pandas-docs/stable/user_guide/indexing.html#returning-a-view-versus-a-copy\n",
      "  new_df['tags'] = new_df['tags'].apply(stems)\n"
     ]
    }
   ],
   "source": [
    "new_df['tags'] = new_df['tags'].apply(stems)\n"
   ]
  },
  {
   "cell_type": "code",
   "execution_count": 24,
   "id": "39c61a98",
   "metadata": {
    "pycharm": {
     "name": "#%%\n"
    }
   },
   "outputs": [
    {
     "data": {
      "text/plain": [
       "'two babi are shown seat next to each other in high chair appar enjoy themselves. suddenli one snatch a toy from the other and they indulg in hair-pulling. documentari two babi shown seat next high chair appar enjoy suddenli one snatch toy indulg suzann lumièr andré lumièr loui lumièr'"
      ]
     },
     "execution_count": 24,
     "metadata": {},
     "output_type": "execute_result"
    }
   ],
   "source": [
    "new_df.iloc[0]['tags']\n"
   ]
  },
  {
   "cell_type": "code",
   "execution_count": 25,
   "id": "478c936a",
   "metadata": {
    "pycharm": {
     "name": "#%%\n"
    }
   },
   "outputs": [],
   "source": [
    "from sklearn.feature_extraction.text import CountVectorizer\n",
    "cv = CountVectorizer(max_features=5000,stop_words='english')\n"
   ]
  },
  {
   "cell_type": "code",
   "execution_count": 26,
   "id": "87140273",
   "metadata": {
    "pycharm": {
     "name": "#%%\n"
    }
   },
   "outputs": [],
   "source": [
    "vector = cv.fit_transform(new_df['tags']).toarray()\n"
   ]
  },
  {
   "cell_type": "code",
   "execution_count": 27,
   "id": "1d73e711",
   "metadata": {
    "pycharm": {
     "name": "#%%\n"
    }
   },
   "outputs": [
    {
     "data": {
      "text/plain": [
       "array([0, 0, 0, ..., 0, 0, 0])"
      ]
     },
     "execution_count": 27,
     "metadata": {},
     "output_type": "execute_result"
    }
   ],
   "source": [
    "vector[0]\n"
   ]
  },
  {
   "cell_type": "code",
   "execution_count": 28,
   "id": "843aea45",
   "metadata": {
    "pycharm": {
     "name": "#%%\n"
    }
   },
   "outputs": [
    {
     "data": {
      "text/plain": [
       "(3150, 5000)"
      ]
     },
     "execution_count": 28,
     "metadata": {},
     "output_type": "execute_result"
    }
   ],
   "source": [
    "vector.shape\n"
   ]
  },
  {
   "cell_type": "code",
   "execution_count": 29,
   "id": "64cb2f85",
   "metadata": {
    "pycharm": {
     "name": "#%%\n"
    }
   },
   "outputs": [],
   "source": [
    "from sklearn.metrics.pairwise import cosine_similarity\n"
   ]
  },
  {
   "cell_type": "code",
   "execution_count": 30,
   "id": "09bef766",
   "metadata": {
    "pycharm": {
     "name": "#%%\n"
    }
   },
   "outputs": [],
   "source": [
    "similarity = cosine_similarity(vector)\n"
   ]
  },
  {
   "cell_type": "code",
   "execution_count": 31,
   "id": "944a66dd",
   "metadata": {
    "pycharm": {
     "name": "#%%\n"
    }
   },
   "outputs": [
    {
     "data": {
      "text/plain": [
       "2"
      ]
     },
     "execution_count": 31,
     "metadata": {},
     "output_type": "execute_result"
    }
   ],
   "source": [
    "new_df[new_df['movie_title'] == 'A Story Well Spun'].index[0]\n"
   ]
  },
  {
   "cell_type": "code",
   "execution_count": 44,
   "id": "12352bec",
   "metadata": {
    "pycharm": {
     "name": "#%%\n"
    }
   },
   "outputs": [],
   "source": [
    "def recommend(movie):\n",
    "    # 检查是否存在符合条件的电影标题\n",
    "    if movie not in new_df['movie_title'].values:\n",
    "        print(f\"电影 '{movie}' 不存在于数据集中。\")\n",
    "        return\n",
    "\n",
    "    # 获取电影的索引\n",
    "    index = new_df[new_df['movie_title'] == movie].index[0]\n",
    "\n",
    "    # 进行推荐\n",
    "    distances = sorted(list(enumerate(similarity[index])), reverse=True, key=lambda x: x[1])\n",
    "\n",
    "    # 确保找到了足够多的相似电影\n",
    "    if len(distances) > 20:\n",
    "        for i in distances[1:20]:\n",
    "            print(new_df.iloc[i[0]].movie_title)\n",
    "    else:\n",
    "        print(\"找不到足够的相似电影。\")\n",
    "\n"
   ]
  },
  {
   "cell_type": "code",
   "execution_count": 49,
   "id": "f3678ed1",
   "metadata": {
    "pycharm": {
     "name": "#%%\n"
    }
   },
   "outputs": [
    {
     "name": "stdout",
     "output_type": "stream",
     "text": [
      "Ice Age: Dawn of the Dinosaurs\n",
      "Epic Tails\n",
      "Ice Age: The Meltdown\n",
      "Ant-Man and the Wasp: Quantumania\n",
      "The Ice Age Adventures of Buck Wild\n",
      "Ice Age: A Mammoth Christmas\n",
      "The Book of Life\n",
      "The Croods: A New Age\n",
      "Luca\n",
      "To Grandmother's House We Go\n",
      "Interstellar\n",
      "Expend4bles\n",
      "Lightyear\n",
      "Virgin Territory\n",
      "Over the Hedge\n",
      "Barbie in A Mermaid Tale\n",
      "Lyle, Lyle, Crocodile\n",
      "The Good Dinosaur\n",
      "Pinocchio\n"
     ]
    }
   ],
   "source": [
    "recommend('Ice Age: Continental Drift')\n"
   ]
  },
  {
   "cell_type": "code",
   "execution_count": 50,
   "id": "6bcad0f7",
   "metadata": {
    "pycharm": {
     "name": "#%%\n"
    }
   },
   "outputs": [],
   "source": [
    "import pickle\n"
   ]
  },
  {
   "cell_type": "code",
   "execution_count": 51,
   "id": "4f477afe",
   "metadata": {
    "pycharm": {
     "name": "#%%\n"
    }
   },
   "outputs": [],
   "source": [
    "pickle.dump(new_df,open('./pkl/movie_list.pkl','wb'))\n",
    "pickle.dump(similarity,open('./pkl/similarity.pkl','wb'))"
   ]
  },
  {
   "cell_type": "code",
   "execution_count": null,
   "id": "19e4c7e9",
   "metadata": {
    "pycharm": {
     "name": "#%%\n"
    }
   },
   "outputs": [],
   "source": []
  },
  {
   "cell_type": "code",
   "execution_count": null,
   "id": "515388d9",
   "metadata": {
    "pycharm": {
     "name": "#%%\n"
    }
   },
   "outputs": [],
   "source": []
  }
 ],
 "metadata": {
  "kernelspec": {
   "display_name": "Python 3 (ipykernel)",
   "language": "python",
   "name": "python3"
  },
  "language_info": {
   "codemirror_mode": {
    "name": "ipython",
    "version": 3
   },
   "file_extension": ".py",
   "mimetype": "text/x-python",
   "name": "python",
   "nbconvert_exporter": "python",
   "pygments_lexer": "ipython3",
   "version": "3.10.9"
  }
 },
 "nbformat": 4,
 "nbformat_minor": 5
}